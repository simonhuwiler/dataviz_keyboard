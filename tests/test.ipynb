{
 "cells": [
  {
   "cell_type": "code",
   "execution_count": null,
   "metadata": {},
   "outputs": [],
   "source": [
    "\n",
    "from ctypes import *\n"
   ]
  },
  {
   "cell_type": "code",
   "execution_count": null,
   "metadata": {},
   "outputs": [],
   "source": [
    "url = \"D:\\\\Entwicklung\\\\Python\\\\dataviz_keyboard\\\\files\\\\TALKFX_SDK_v2.1.1\\\\x64\\\\Roccat Talk SDK.dll\"\n",
    "url = \"D:\\\\Entwicklung\\\\Python\\\\dataviz_keyboard\\\\files\\\\TALKFX_SDK_v2.1.1\\\\x86\\\\Roccat Talk SDK.dll\"\n",
    "#url = \"C:\\\\Program Files (x86)\\\\ROCCAT\\\\ROCCAT Swarm\\\\data\\\\VULCAN.dll\"\n",
    "#url = \"C:\\\\Program Files (x86)\\\\ROCCAT\\\\ROCCAT Swarm\\\\libgcc_s_dw2-1.dll\"\n",
    "dll = cdll.LoadLibrary(url)\n",
    "#dll = CDLL(url)\n"
   ]
  },
  {
   "cell_type": "code",
   "execution_count": null,
   "metadata": {},
   "outputs": [],
   "source": [
    "#dll.Set_LED_RGB(0,1,12,25,78)\n",
    "dll.RestoreLEDRGB()\n",
    "#dll.RestoreLEDRGB()\n"
   ]
  },
  {
   "cell_type": "markdown",
   "metadata": {},
   "source": [
    "https://github.com/RedHatter/roccat-vulcan-set/blob/master/src/main.rs\n",
    "https://github.com/signal11/hidapi\n",
    "https://github.com/libusb/hidapi\n",
    "https://gist.github.com/todbot/12f4a26e840e3229a04aeac883fae332\n",
    "https://github.com/duncanthrax/roccat-vulcan/blob/master/src/hid.c\n",
    "https://github.com/ahtn/python-easyhid\n",
    "https://github.com/X3n0m0rph59/eruption-roccat-vulcan/tree/master/src"
   ]
  },
  {
   "cell_type": "markdown",
   "metadata": {},
   "source": [
    "## USB Tests"
   ]
  },
  {
   "cell_type": "code",
   "execution_count": 1,
   "metadata": {},
   "outputs": [],
   "source": [
    "#https://github.com/RedHatter/roccat-vulcan-set/blob/master/src/main.rs\n",
    "import hid\n",
    "import numpy as np\n",
    "import math"
   ]
  },
  {
   "cell_type": "markdown",
   "metadata": {},
   "source": [
    "const RV_PRODUCTS: [u16; 2] = [0x3098, 0x307a];\n",
    "const RV_VENDOR: u16 = 0x1e7d;\n",
    "const RV_LED_INTERFACE: i32 = 3;\n",
    "const RV_NUM_KEYS: usize = 144;"
   ]
  },
  {
   "cell_type": "code",
   "execution_count": 478,
   "metadata": {},
   "outputs": [
    {
     "data": {
      "text/plain": [
       "'\\nfor dev_info in ctrl_device_info:\\n    try:\\n        ctrl_device.open_path(dev_info[\\'path\\'])\\n        ctrl_device_open = True\\n        break\\n    except:\\n        pass\\n        #open failed\")\\n    \\nif not ctrl_device_open:\\n    raise(\"CTRL Device not open!\")\\n'"
      ]
     },
     "execution_count": 478,
     "metadata": {},
     "output_type": "execute_result"
    }
   ],
   "source": [
    "CTRL_INTERFACE = 1\n",
    "LED_INTERFACE = 3\n",
    "\n",
    "vendor_id = 0x307a\n",
    "#product_id = 0x1e7d\n",
    "product_id = 0x3098\n",
    "#device_list = hid.enumerate(vendor_id, product_id)\n",
    "device_list = hid.enumerate(product_id=product_id)\n",
    "\n",
    "#Find LED Interface Number (No 1)\n",
    "led_device_info = [x for x in device_list if x['interface_number'] == LED_INTERFACE]\n",
    "if not led_device_info:\n",
    "    raise(\"LED Device not found\")\n",
    "\n",
    "led_device = hid.device()\n",
    "led_device.open_path(led_device_info[0]['path'])\n",
    "\n",
    "#Find Control Interface (No 1)\n",
    "ctrl_device_info = [x for x in device_list if x['interface_number'] == CTRL_INTERFACE]\n",
    "\n",
    "if not ctrl_device_info:\n",
    "    raise(\"CTRL Device not found\")\n",
    "\n",
    "#Brute force opening: Try to open one by one until...\n",
    "ctrl_device = hid.device()\n",
    "ctrl_device_open = False\n",
    "ctrl_device.open_path(ctrl_device_info[4]['path'])\n",
    "\"\"\"\n",
    "for dev_info in ctrl_device_info:\n",
    "    try:\n",
    "        ctrl_device.open_path(dev_info['path'])\n",
    "        ctrl_device_open = True\n",
    "        break\n",
    "    except:\n",
    "        pass\n",
    "        #open failed\")\n",
    "    \n",
    "if not ctrl_device_open:\n",
    "    raise(\"CTRL Device not open!\")\n",
    "\"\"\""
   ]
  },
  {
   "cell_type": "code",
   "execution_count": 479,
   "metadata": {},
   "outputs": [
    {
     "data": {
      "text/plain": [
       "b'\\\\\\\\?\\\\hid#vid_1e7d&pid_3098&mi_03#9&2149fb0b&0&0000#{4d1e55b2-f16f-11cf-88cb-001111000030}'"
      ]
     },
     "execution_count": 479,
     "metadata": {},
     "output_type": "execute_result"
    }
   ],
   "source": [
    "led_device_info[0]['path']"
   ]
  },
  {
   "cell_type": "code",
   "execution_count": 480,
   "metadata": {},
   "outputs": [
    {
     "data": {
      "text/plain": [
       "{'path': b'\\\\\\\\?\\\\hid#vid_1e7d&pid_3098&mi_03#9&2149fb0b&0&0000#{4d1e55b2-f16f-11cf-88cb-001111000030}',\n",
       " 'vendor_id': 7805,\n",
       " 'product_id': 12440,\n",
       " 'serial_number': '',\n",
       " 'release_number': 256,\n",
       " 'manufacturer_string': 'ROCCAT',\n",
       " 'product_string': 'ROCCAT Vulcan AIMO',\n",
       " 'usage_page': 1,\n",
       " 'usage': 0,\n",
       " 'interface_number': 3}"
      ]
     },
     "execution_count": 480,
     "metadata": {},
     "output_type": "execute_result"
    }
   ],
   "source": [
    "led_device_info[0]"
   ]
  },
  {
   "cell_type": "code",
   "execution_count": 459,
   "metadata": {},
   "outputs": [],
   "source": [
    "def write_led(data):\n",
    "    return led_device.write(data)\n",
    "\n",
    "def write_ctrl(data):\n",
    "    #return ctrl_device.write(data)\n",
    "    return ctrl_device.send_feature_report(data)"
   ]
  },
  {
   "cell_type": "code",
   "execution_count": 460,
   "metadata": {},
   "outputs": [
    {
     "data": {
      "text/plain": [
       "[15,\n",
       " 8,\n",
       " 133,\n",
       " 102,\n",
       " 0,\n",
       " 1,\n",
       " 9,\n",
       " 12,\n",
       " 131,\n",
       " 202,\n",
       " 202,\n",
       " 202,\n",
       " 202,\n",
       " 202,\n",
       " 202,\n",
       " 206,\n",
       " 206,\n",
       " 210,\n",
       " 206,\n",
       " 206,\n",
       " 210,\n",
       " 25,\n",
       " 25,\n",
       " 25,\n",
       " 25,\n",
       " 25,\n",
       " 25,\n",
       " 35,\n",
       " 35,\n",
       " 45,\n",
       " 35,\n",
       " 35,\n",
       " 45,\n",
       " 224,\n",
       " 224,\n",
       " 224,\n",
       " 224,\n",
       " 224,\n",
       " 224,\n",
       " 227,\n",
       " 227,\n",
       " 230,\n",
       " 227,\n",
       " 227,\n",
       " 230,\n",
       " 210,\n",
       " 210,\n",
       " 213,\n",
       " 210,\n",
       " 210,\n",
       " 213,\n",
       " 213,\n",
       " 213,\n",
       " 217,\n",
       " 213,\n",
       " 0,\n",
       " 217,\n",
       " 45,\n",
       " 45,\n",
       " 54,\n",
       " 45,\n",
       " 45,\n",
       " 54,\n",
       " 54,\n",
       " 54,\n",
       " 64,\n",
       " 54,\n",
       " 0,\n",
       " 64,\n",
       " 230,\n",
       " 230,\n",
       " 233,\n",
       " 230,\n",
       " 230,\n",
       " 233,\n",
       " 233,\n",
       " 233,\n",
       " 236,\n",
       " 233,\n",
       " 0,\n",
       " 236,\n",
       " 217,\n",
       " 217,\n",
       " 221,\n",
       " 217,\n",
       " 221,\n",
       " 221,\n",
       " 224,\n",
       " 224,\n",
       " 221,\n",
       " 224,\n",
       " 228,\n",
       " 228,\n",
       " 64,\n",
       " 64,\n",
       " 74,\n",
       " 64,\n",
       " 74,\n",
       " 74,\n",
       " 83,\n",
       " 83,\n",
       " 74,\n",
       " 83,\n",
       " 93,\n",
       " 93,\n",
       " 236,\n",
       " 236,\n",
       " 239,\n",
       " 236,\n",
       " 239,\n",
       " 239,\n",
       " 242,\n",
       " 242,\n",
       " 239,\n",
       " 242,\n",
       " 245,\n",
       " 245,\n",
       " 228,\n",
       " 228,\n",
       " 0,\n",
       " 0,\n",
       " 0,\n",
       " 0,\n",
       " 0,\n",
       " 0,\n",
       " 0,\n",
       " 0,\n",
       " 0,\n",
       " 0,\n",
       " 93,\n",
       " 93,\n",
       " 0,\n",
       " 0,\n",
       " 0,\n",
       " 0,\n",
       " 0,\n",
       " 0,\n",
       " 0,\n",
       " 0,\n",
       " 0,\n",
       " 0,\n",
       " 245,\n",
       " 245,\n",
       " 0,\n",
       " 0,\n",
       " 0,\n",
       " 0,\n",
       " 0,\n",
       " 0,\n",
       " 0,\n",
       " 0,\n",
       " 0,\n",
       " 0,\n",
       " 228,\n",
       " 228,\n",
       " 232,\n",
       " 232,\n",
       " 232,\n",
       " 232,\n",
       " 232,\n",
       " 235,\n",
       " 235,\n",
       " 235,\n",
       " 0,\n",
       " 235,\n",
       " 93,\n",
       " 93,\n",
       " 103,\n",
       " 103,\n",
       " 103,\n",
       " 103,\n",
       " 103,\n",
       " 112,\n",
       " 112,\n",
       " 112,\n",
       " 0,\n",
       " 112,\n",
       " 245,\n",
       " 245,\n",
       " 248,\n",
       " 248,\n",
       " 248,\n",
       " 248,\n",
       " 248,\n",
       " 251,\n",
       " 251,\n",
       " 251,\n",
       " 0,\n",
       " 251,\n",
       " 235,\n",
       " 239,\n",
       " 239,\n",
       " 239,\n",
       " 0,\n",
       " 239,\n",
       " 240,\n",
       " 240,\n",
       " 237,\n",
       " 240,\n",
       " 240,\n",
       " 0,\n",
       " 112,\n",
       " 122,\n",
       " 122,\n",
       " 122,\n",
       " 0,\n",
       " 122,\n",
       " 122,\n",
       " 122,\n",
       " 111,\n",
       " 122,\n",
       " 122,\n",
       " 0,\n",
       " 251,\n",
       " 253,\n",
       " 253,\n",
       " 253,\n",
       " 0,\n",
       " 253,\n",
       " 248,\n",
       " 248,\n",
       " 234,\n",
       " 248,\n",
       " 248,\n",
       " 0,\n",
       " 237,\n",
       " 237,\n",
       " 234,\n",
       " 237,\n",
       " 237,\n",
       " 0,\n",
       " 237,\n",
       " 234,\n",
       " 234,\n",
       " 246,\n",
       " 231,\n",
       " 234,\n",
       " 111,\n",
       " 111,\n",
       " 101,\n",
       " 111,\n",
       " 111,\n",
       " 0,\n",
       " 111,\n",
       " 101,\n",
       " 101,\n",
       " 102,\n",
       " 90,\n",
       " 101,\n",
       " 234,\n",
       " 234,\n",
       " 220,\n",
       " 234,\n",
       " 234,\n",
       " 0,\n",
       " 234,\n",
       " 227]"
      ]
     },
     "execution_count": 460,
     "metadata": {},
     "output_type": "execute_result"
    }
   ],
   "source": [
    "#Init Device\n",
    "init = [0] * 256\n",
    "init[0] = 0x0f\n",
    "ctrl_device.get_feature_report(0x0f, 256)\n",
    "#write_ctrl(init)"
   ]
  },
  {
   "cell_type": "code",
   "execution_count": 461,
   "metadata": {},
   "outputs": [
    {
     "data": {
      "text/plain": [
       "3"
      ]
     },
     "execution_count": 461,
     "metadata": {},
     "output_type": "execute_result"
    }
   ],
   "source": [
    "data = [0x15, 0x00, 0x01]\n",
    "write_ctrl(data)"
   ]
  },
  {
   "cell_type": "code",
   "execution_count": 462,
   "metadata": {},
   "outputs": [
    {
     "data": {
      "text/plain": [
       "4"
      ]
     },
     "execution_count": 462,
     "metadata": {},
     "output_type": "execute_result"
    }
   ],
   "source": [
    "data = [0x05, 0x04, 0x00, 0x04]\n",
    "write_ctrl(data)"
   ]
  },
  {
   "cell_type": "code",
   "execution_count": 463,
   "metadata": {},
   "outputs": [
    {
     "data": {
      "text/plain": [
       "95"
      ]
     },
     "execution_count": 463,
     "metadata": {},
     "output_type": "execute_result"
    }
   ],
   "source": [
    "data =  [\n",
    "                        0x07, 0x5f, 0x00, 0x3a, 0x00, 0x00, 0x3b, 0x00, 0x00, 0x3c, 0x00, 0x00,\n",
    "                        0x3d, 0x00, 0x00, 0x3e, 0x00, 0x00, 0x3f, 0x00, 0x00, 0x40, 0x00, 0x00,\n",
    "                        0x41, 0x00, 0x00, 0x42, 0x00, 0x00, 0x43, 0x00, 0x00, 0x44, 0x00, 0x00,\n",
    "                        0x45, 0x00, 0x00, 0x46, 0x00, 0x00, 0x47, 0x00, 0x00, 0x48, 0x00, 0x00,\n",
    "                        0xb3, 0x00, 0x00, 0xb4, 0x00, 0x00, 0xb5, 0x00, 0x00, 0xb6, 0x00, 0x00,\n",
    "                        0xc2, 0x00, 0x00, 0xc3, 0x00, 0x00, 0xc0, 0x00, 0x00, 0xc1, 0x00, 0x00,\n",
    "                        0xce, 0x00, 0x00, 0xcf, 0x00, 0x00, 0xcc, 0x00, 0x00, 0xcd, 0x00, 0x00,\n",
    "                        0x46, 0x00, 0x00, 0xfc, 0x00, 0x00, 0x48, 0x00, 0x00, 0xcd, 0x0e,\n",
    "                    ]\n",
    "write_ctrl(data)"
   ]
  },
  {
   "cell_type": "code",
   "execution_count": 464,
   "metadata": {},
   "outputs": [
    {
     "data": {
      "text/plain": [
       "8"
      ]
     },
     "execution_count": 464,
     "metadata": {},
     "output_type": "execute_result"
    }
   ],
   "source": [
    "data = [0x0a, 0x08, 0x00, 0xff, 0xf1, 0x00, 0x02, 0x02]\n",
    "write_ctrl(data)"
   ]
  },
  {
   "cell_type": "code",
   "execution_count": 465,
   "metadata": {},
   "outputs": [
    {
     "data": {
      "text/plain": [
       "8"
      ]
     },
     "execution_count": 465,
     "metadata": {},
     "output_type": "execute_result"
    }
   ],
   "source": [
    "data = [0x0a, 0x08, 0x00, 0xff, 0xf1, 0x00, 0x02, 0x02]\n",
    "write_ctrl(data)"
   ]
  },
  {
   "cell_type": "code",
   "execution_count": 466,
   "metadata": {},
   "outputs": [
    {
     "data": {
      "text/plain": [
       "133"
      ]
     },
     "execution_count": 466,
     "metadata": {},
     "output_type": "execute_result"
    }
   ],
   "source": [
    "data = [\n",
    "                        0x06, 0x85, 0x00, 0x3a, 0x29, 0x35, 0x1e, 0x2b, 0x39, 0xe1, 0xe0, 0x3b,\n",
    "                        0x1f, 0x14, 0x1a, 0x04, 0x64, 0x00, 0x00, 0x3d, 0x3c, 0x20, 0x21, 0x08,\n",
    "                        0x16, 0x1d, 0xe2, 0x3e, 0x23, 0x22, 0x15, 0x07, 0x1b, 0x06, 0x8b, 0x3f,\n",
    "                        0x24, 0x00, 0x17, 0x0a, 0x09, 0x19, 0x91, 0x40, 0x41, 0x00, 0x1c, 0x18,\n",
    "                        0x0b, 0x05, 0x2c, 0x42, 0x26, 0x25, 0x0c, 0x0d, 0x0e, 0x10, 0x11, 0x43,\n",
    "                        0x2a, 0x27, 0x2d, 0x12, 0x0f, 0x36, 0x8a, 0x44, 0x45, 0x89, 0x2e, 0x13,\n",
    "                        0x33, 0x37, 0x90, 0x46, 0x49, 0x4c, 0x2f, 0x30, 0x34, 0x38, 0x88, 0x47,\n",
    "                        0x4a, 0x4d, 0x31, 0x32, 0x00, 0x87, 0xe6, 0x48, 0x4b, 0x4e, 0x28, 0x52,\n",
    "                        0x50, 0xe5, 0xe7, 0xd2, 0x53, 0x5f, 0x5c, 0x59, 0x51, 0x00, 0xf1, 0xd1,\n",
    "                        0x54, 0x60, 0x5d, 0x5a, 0x4f, 0x8e, 0x65, 0xd0, 0x55, 0x61, 0x5e, 0x5b,\n",
    "                        0x62, 0xa4, 0xe4, 0xfc, 0x56, 0x57, 0x85, 0x58, 0x63, 0x00, 0x00, 0xc2,\n",
    "                        0x24,\n",
    "                    ]\n",
    "write_ctrl(data)"
   ]
  },
  {
   "cell_type": "code",
   "execution_count": 467,
   "metadata": {},
   "outputs": [
    {
     "data": {
      "text/plain": [
       "43"
      ]
     },
     "execution_count": 467,
     "metadata": {},
     "output_type": "execute_result"
    }
   ],
   "source": [
    "data =  [\n",
    "                        0x09, 0x2b, 0x00, 0x49, 0x00, 0x00, 0x4a, 0x00, 0x00, 0x4b, 0x00, 0x00,\n",
    "                        0x4c, 0x00, 0x00, 0x4d, 0x00, 0x00, 0x4e, 0x00, 0x00, 0xa4, 0x00, 0x00,\n",
    "                        0x8e, 0x00, 0x00, 0xd0, 0x00, 0x00, 0xd1, 0x00, 0x00, 0x00, 0x00, 0x00,\n",
    "                        0x01, 0x00, 0x00, 0x00, 0x00, 0xcd, 0x04,\n",
    "                    ]\n",
    "write_ctrl(data)"
   ]
  },
  {
   "cell_type": "code",
   "execution_count": 468,
   "metadata": {},
   "outputs": [
    {
     "data": {
      "text/plain": [
       "443"
      ]
     },
     "execution_count": 468,
     "metadata": {},
     "output_type": "execute_result"
    }
   ],
   "source": [
    "data = [\n",
    "                        0x0d, 0xbb, 0x01, 0x00, 0x06, 0x0b, 0x05, 0x45, 0x83, 0xca, 0xca, 0xca,\n",
    "                        0xca, 0xca, 0xca, 0xce, 0xce, 0xd2, 0xce, 0xce, 0xd2, 0x19, 0x19, 0x19,\n",
    "                        0x19, 0x19, 0x19, 0x23, 0x23, 0x2d, 0x23, 0x23, 0x2d, 0xe0, 0xe0, 0xe0,\n",
    "                        0xe0, 0xe0, 0xe0, 0xe3, 0xe3, 0xe6, 0xe3, 0xe3, 0xe6, 0xd2, 0xd2, 0xd5,\n",
    "                        0xd2, 0xd2, 0xd5, 0xd5, 0xd5, 0xd9, 0xd5, 0x00, 0xd9, 0x2d, 0x2d, 0x36,\n",
    "                        0x2d, 0x2d, 0x36, 0x36, 0x36, 0x40, 0x36, 0x00, 0x40, 0xe6, 0xe6, 0xe9,\n",
    "                        0xe6, 0xe6, 0xe9, 0xe9, 0xe9, 0xec, 0xe9, 0x00, 0xec, 0xd9, 0xd9, 0xdd,\n",
    "                        0xd9, 0xdd, 0xdd, 0xe0, 0xe0, 0xdd, 0xe0, 0xe4, 0xe4, 0x40, 0x40, 0x4a,\n",
    "                        0x40, 0x4a, 0x4a, 0x53, 0x53, 0x4a, 0x53, 0x5d, 0x5d, 0xec, 0xec, 0xef,\n",
    "                        0xec, 0xef, 0xef, 0xf2, 0xf2, 0xef, 0xf2, 0xf5, 0xf5, 0xe4, 0xe4, 0x00,\n",
    "                        0x00, 0x00, 0x00, 0x00, 0x00, 0x00, 0x00, 0x00, 0x00, 0x5d, 0x5d, 0x00,\n",
    "                        0x00, 0x00, 0x00, 0x00, 0x00, 0x00, 0x00, 0x00, 0x00, 0xf5, 0xf5, 0x00,\n",
    "                        0x00, 0x00, 0x00, 0x00, 0x00, 0x00, 0x00, 0x00, 0x00, 0xe4, 0xe4, 0xe8,\n",
    "                        0xe8, 0xe8, 0xe8, 0xe8, 0xeb, 0xeb, 0xeb, 0x00, 0xeb, 0x5d, 0x5d, 0x67,\n",
    "                        0x67, 0x67, 0x67, 0x67, 0x70, 0x70, 0x70, 0x00, 0x70, 0xf5, 0xf5, 0xf8,\n",
    "                        0xf8, 0xf8, 0xf8, 0xf8, 0xfb, 0xfb, 0xfb, 0x00, 0xfb, 0xeb, 0xef, 0xef,\n",
    "                        0xef, 0x00, 0xef, 0xf0, 0xf0, 0xed, 0xf0, 0xf0, 0x00, 0x70, 0x7a, 0x7a,\n",
    "                        0x7a, 0x00, 0x7a, 0x7a, 0x7a, 0x6f, 0x7a, 0x7a, 0x00, 0xfb, 0xfd, 0xfd,\n",
    "                        0xfd, 0x00, 0xfd, 0xf8, 0xf8, 0xea, 0xf8, 0xf8, 0x00, 0xed, 0xed, 0xea,\n",
    "                        0xed, 0xed, 0x00, 0xed, 0xea, 0xea, 0xf6, 0xe7, 0xea, 0x6f, 0x6f, 0x65,\n",
    "                        0x6f, 0x6f, 0x00, 0x6f, 0x65, 0x65, 0x66, 0x5a, 0x65, 0xea, 0xea, 0xdc,\n",
    "                        0xea, 0xea, 0x00, 0xea, 0xdc, 0xdc, 0x00, 0xce, 0xdc, 0xea, 0xe7, 0xe5,\n",
    "                        0xe7, 0xe5, 0xe5, 0x00, 0x00, 0x00, 0x00, 0x00, 0x00, 0x65, 0x5a, 0x50,\n",
    "                        0x5a, 0x50, 0x50, 0x00, 0x00, 0x00, 0x00, 0x00, 0x00, 0xdc, 0xce, 0xc0,\n",
    "                        0xce, 0xc0, 0xc0, 0x00, 0x00, 0x00, 0x00, 0x00, 0x00, 0xe7, 0x00, 0x00,\n",
    "                        0xe2, 0xe2, 0xe2, 0xe2, 0xdf, 0xdf, 0xdf, 0xdf, 0xdf, 0x5a, 0x00, 0x00,\n",
    "                        0x45, 0x45, 0x45, 0x45, 0x3b, 0x3b, 0x3b, 0x3b, 0x3b, 0xce, 0x00, 0x00,\n",
    "                        0xb2, 0xb2, 0xb2, 0xb2, 0xa4, 0xa4, 0xa4, 0xa4, 0xa4, 0xdc, 0xdc, 0xdc,\n",
    "                        0xdc, 0x00, 0xda, 0xda, 0xda, 0xda, 0xda, 0x00, 0xd7, 0x30, 0x30, 0x30,\n",
    "                        0x30, 0x00, 0x26, 0x26, 0x26, 0x26, 0x26, 0x00, 0x1c, 0x96, 0x96, 0x96,\n",
    "                        0x96, 0x00, 0x88, 0x88, 0x88, 0x88, 0x88, 0x00, 0x7a, 0xd7, 0xd7, 0xd7,\n",
    "                        0x00, 0xd4, 0xd4, 0xd4, 0xd4, 0xd4, 0xd1, 0xd1, 0xd1, 0x1c, 0x1c, 0x1c,\n",
    "                        0x00, 0x11, 0x11, 0x11, 0x11, 0x11, 0x06, 0x06, 0x06, 0x7a, 0x7a, 0x7a,\n",
    "                        0x00, 0x6c, 0x6c, 0x6c, 0x6c, 0x6c, 0x5e, 0x5e, 0x5e, 0x00, 0x00, 0x00,\n",
    "                        0x00, 0x00, 0x00, 0x00, 0x00, 0x00, 0x00, 0x00, 0x00, 0x00, 0x00, 0x00,\n",
    "                        0x00, 0x00, 0x00, 0x00, 0x00, 0x00, 0x00, 0x00, 0x00, 0x00, 0x00, 0x00,\n",
    "                        0x00, 0x00, 0x00, 0x00, 0x00, 0x00, 0x00, 0x00, 0x00, 0x24, 0xcf,\n",
    "                    ]\n",
    "write_ctrl(data)"
   ]
  },
  {
   "cell_type": "code",
   "execution_count": 469,
   "metadata": {},
   "outputs": [
    {
     "data": {
      "text/plain": [
       "8"
      ]
     },
     "execution_count": 469,
     "metadata": {},
     "output_type": "execute_result"
    }
   ],
   "source": [
    "data = [0x13, 0x08, 0x01, 0x00, 0x00, 0x00, 0x00, 0x00]\n",
    "write_ctrl(data)\n"
   ]
  },
  {
   "cell_type": "code",
   "execution_count": 470,
   "metadata": {},
   "outputs": [],
   "source": [
    "#Close Ctrl\n",
    "ctrl_device.close()"
   ]
  },
  {
   "cell_type": "code",
   "execution_count": 471,
   "metadata": {
    "scrolled": true
   },
   "outputs": [
    {
     "data": {
      "text/plain": [
       "'\\n#Variante Internet   \\n#colorbuffer = [None] * 465\\ncolorbuffer = [0] * 465\\nfor i, key in enumerate(keys):\\n    #Building 12er blöcke\\n    offset = int(((i / 12) * 36) + (i % 12))\\n    colorbuffer[offset] = key[\\'r\\']\\n    colorbuffer[offset + 12] = key[\\'g\\']\\n    colorbuffer[offset + 24] = key[\\'b\\']\\n    #print(\"%s %s %s\" % (offset, offset + 12, offset + 24))\\n'"
      ]
     },
     "execution_count": 471,
     "metadata": {},
     "output_type": "execute_result"
    }
   ],
   "source": [
    "#Build keylist\n",
    "num_key = 144\n",
    "keys = []\n",
    "for i in range(0, num_key):\n",
    "    keys.append({\n",
    "        'r': 50,\n",
    "        'g': 50,\n",
    "        'b': 50\n",
    "    })\n",
    "    \n",
    "\n",
    "#Variante Simon\n",
    "colorbuffer = [None] * num_key * 3\n",
    "for i, key in enumerate(keys):\n",
    "   \n",
    "    paquet = math.floor(i / 12)\n",
    "    offset = (i % 12) + 36 * paquet\n",
    "    colorbuffer[offset] = key['r']\n",
    "    colorbuffer[offset +  12] = key['g']\n",
    "    colorbuffer[offset + 24] = key['b']\n",
    "\n",
    "\"\"\"\n",
    "#Variante Internet   \n",
    "#colorbuffer = [None] * 465\n",
    "colorbuffer = [0] * 465\n",
    "for i, key in enumerate(keys):\n",
    "    #Building 12er blöcke\n",
    "    offset = int(((i / 12) * 36) + (i % 12))\n",
    "    colorbuffer[offset] = key['r']\n",
    "    colorbuffer[offset + 12] = key['g']\n",
    "    colorbuffer[offset + 24] = key['b']\n",
    "    #print(\"%s %s %s\" % (offset, offset + 12, offset + 24))\n",
    "\"\"\""
   ]
  },
  {
   "cell_type": "code",
   "execution_count": 472,
   "metadata": {},
   "outputs": [
    {
     "name": "stdout",
     "output_type": "stream",
     "text": [
      "436\n",
      "64\n",
      "64\n",
      "64\n",
      "64\n",
      "64\n",
      "64\n",
      "52\n"
     ]
    }
   ],
   "source": [
    "#data = [0x00, 0xa1, 0x01, 0x01, 0xb4] + colorbuffer\n",
    "data = [0xa1, 0x01, 0x01, 0xb4] + colorbuffer\n",
    "print(len(data))\n",
    "\n",
    "\n",
    "for i in range(0, math.ceil(len(data) / 64)):\n",
    "    iFrom = i * 64\n",
    "    iTo = iFrom + 64\n",
    "    \n",
    "    \n",
    "    #print(\"%s -> %s\" % (iFrom, iTo))\n",
    "    #print(data[iFrom: iTo])\n",
    "    print(len(data[iFrom: iTo]))\n",
    "    r = led_device.write([0x00] + data[iFrom: iTo])\n",
    "    #r = led_device.write(bytearray(data[iFrom: iTo]))\n",
    "    #print(r)\n",
    "    if(r < 65):\n",
    "        print(\"error\")\n",
    "\n",
    "#device.close()"
   ]
  },
  {
   "cell_type": "markdown",
   "metadata": {},
   "source": [
    "## Animationtest"
   ]
  },
  {
   "cell_type": "code",
   "execution_count": 452,
   "metadata": {},
   "outputs": [
    {
     "data": {
      "text/plain": [
       "255"
      ]
     },
     "execution_count": 452,
     "metadata": {},
     "output_type": "execute_result"
    }
   ],
   "source": [
    "#Animate Red Fader\n",
    "def animate(r = 0, g = 0, b = 0):\n",
    "    keys = []\n",
    "    for i in range(0, num_key):\n",
    "        keys.append({\n",
    "            'r': r,\n",
    "            'g': g,\n",
    "            'b': b\n",
    "        })\n",
    "\n",
    "\n",
    "    #Variante Simon\n",
    "    colorbuffer = [None] * num_key * 3\n",
    "    for i, key in enumerate(keys):\n",
    "\n",
    "        paquet = math.floor(i / 12)\n",
    "        offset = (i % 12) + 36 * paquet\n",
    "        colorbuffer[offset] = key['r']\n",
    "        colorbuffer[offset +  12] = key['g']\n",
    "        colorbuffer[offset + 24] = key['b']\n",
    "        \n",
    "    return colorbuffer\n",
    "\n",
    "frames = []\n",
    "for i in range (0, 255):\n",
    "    frames.append(animate(i))\n",
    "    \n",
    "len(frames)"
   ]
  },
  {
   "cell_type": "code",
   "execution_count": 453,
   "metadata": {},
   "outputs": [],
   "source": [
    "def calculate_buffer(keys):\n",
    "    colorbuffer = [None] * num_key * 3\n",
    "    for i, key in enumerate(keys):\n",
    "\n",
    "        paquet = math.floor(i / 12)\n",
    "        offset = (i % 12) + 36 * paquet\n",
    "\n",
    "        colorbuffer[offset] = key['r']\n",
    "        colorbuffer[offset +  12] = key['g']\n",
    "        colorbuffer[offset + 24] = key['b']\n",
    "        \n",
    "    return colorbuffer"
   ]
  },
  {
   "cell_type": "code",
   "execution_count": 454,
   "metadata": {
    "scrolled": true
   },
   "outputs": [
    {
     "name": "stdout",
     "output_type": "stream",
     "text": [
      "finished\n"
     ]
    }
   ],
   "source": [
    "#Animate Key by Key\n",
    "import time\n",
    "frames = []\n",
    "for i in range(0, num_key):\n",
    "    \n",
    "    #Shut down all keys\n",
    "    #keys = [{'r': 0, 'g': 0, 'b': 0}.copy()] * num_key\n",
    "    keys = []\n",
    "    for x in range(0, num_key):\n",
    "        color = 255 if x <= i else 0\n",
    "        keys.append({'r': color, 'g': 0, 'b': 0})\n",
    "    #keys[i]['r'] = 255\n",
    "    \n",
    "    frames.append(calculate_buffer(keys))\n",
    "\n",
    "\n",
    "for frame in frames:\n",
    "    runAnimation(frame)\n",
    "    time.sleep(0.01)\n",
    "\n",
    "print(\"finished\")"
   ]
  },
  {
   "cell_type": "code",
   "execution_count": 455,
   "metadata": {},
   "outputs": [],
   "source": [
    "def runAnimation(colorbuffer):\n",
    "    #data = [0x00, 0xa1, 0x01, 0x01, 0xb4] + colorbuffer\n",
    "    data = [0xa1, 0x01, 0x01, 0xb4] + colorbuffer\n",
    "    #print(len(data))\n",
    "\n",
    "\n",
    "    for i in range(0, math.ceil(len(data) / 64)):\n",
    "        iFrom = i * 64\n",
    "        iTo = iFrom + 64\n",
    "\n",
    "\n",
    "        #print(\"%s -> %s\" % (iFrom, iTo))\n",
    "        #print(data[iFrom: iTo])\n",
    "        #print(len(data[iFrom: iTo]))\n",
    "        r = led_device.write([0x00] + data[iFrom: iTo])\n",
    "        #r = led_device.write(bytearray(data[iFrom: iTo]))\n",
    "        #print(r)\n",
    "        if(r < 65):\n",
    "            print(\"error\")\n",
    "\n",
    "    #device.close()\n",
    "    \n",
    "for frame in frames:\n",
    "    runAnimation(frame)"
   ]
  },
  {
   "cell_type": "code",
   "execution_count": 473,
   "metadata": {},
   "outputs": [],
   "source": [
    "led_device.close()"
   ]
  },
  {
   "cell_type": "code",
   "execution_count": null,
   "metadata": {},
   "outputs": [],
   "source": []
  },
  {
   "cell_type": "code",
   "execution_count": null,
   "metadata": {},
   "outputs": [],
   "source": []
  },
  {
   "cell_type": "code",
   "execution_count": null,
   "metadata": {
    "scrolled": true
   },
   "outputs": [],
   "source": [
    "for i in range(0, int(len(colorbuffer) / 64)):\n",
    "    iFrom = i * 64\n",
    "    iTo = iFrom + 64\n",
    "    colorbuffer[iFrom: iTo]\n",
    "    print(\"%s -> %s\" % (iFrom, iTo))"
   ]
  },
  {
   "cell_type": "code",
   "execution_count": null,
   "metadata": {},
   "outputs": [],
   "source": [
    "device.close()"
   ]
  },
  {
   "cell_type": "code",
   "execution_count": null,
   "metadata": {},
   "outputs": [],
   "source": [
    "device_list"
   ]
  },
  {
   "cell_type": "code",
   "execution_count": null,
   "metadata": {},
   "outputs": [],
   "source": []
  }
 ],
 "metadata": {
  "kernelspec": {
   "display_name": "Python 3",
   "language": "python",
   "name": "python3"
  },
  "language_info": {
   "codemirror_mode": {
    "name": "ipython",
    "version": 3
   },
   "file_extension": ".py",
   "mimetype": "text/x-python",
   "name": "python",
   "nbconvert_exporter": "python",
   "pygments_lexer": "ipython3",
   "version": "3.6.5"
  }
 },
 "nbformat": 4,
 "nbformat_minor": 2
}
